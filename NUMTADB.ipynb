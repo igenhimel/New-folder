{
  "nbformat": 4,
  "nbformat_minor": 0,
  "metadata": {
    "colab": {
      "name": "NUMTADB.ipynb",
      "provenance": [],
      "collapsed_sections": [],
      "authorship_tag": "ABX9TyOuGMSXGq7gfxEARnVSrWu5",
      "include_colab_link": true
    },
    "kernelspec": {
      "name": "python3",
      "display_name": "Python 3"
    },
    "language_info": {
      "name": "python"
    },
    "accelerator": "GPU"
  },
  "cells": [
    {
      "cell_type": "markdown",
      "metadata": {
        "id": "view-in-github",
        "colab_type": "text"
      },
      "source": [
        "<a href=\"https://colab.research.google.com/github/igenhimel/New-folder/blob/master/NUMTADB.ipynb\" target=\"_parent\"><img src=\"https://colab.research.google.com/assets/colab-badge.svg\" alt=\"Open In Colab\"/></a>"
      ]
    },
    {
      "cell_type": "code",
      "execution_count": 4,
      "metadata": {
        "colab": {
          "base_uri": "https://localhost:8080/"
        },
        "id": "Jcs7aYKIyrz4",
        "outputId": "f548b44e-095f-4ea5-9101-1f27a10bed2d"
      },
      "outputs": [
        {
          "output_type": "stream",
          "name": "stdout",
          "text": [
            "Drive already mounted at /content/drive; to attempt to forcibly remount, call drive.mount(\"/content/drive\", force_remount=True).\n"
          ]
        }
      ],
      "source": [
        "from google.colab import drive\n",
        "drive.mount('/content/drive')"
      ]
    },
    {
      "cell_type": "code",
      "source": [
        "import os\n",
        "os.makedirs(\"dataset/NUMTA\")"
      ],
      "metadata": {
        "id": "i0Y4uvWQy9D4",
        "colab": {
          "base_uri": "https://localhost:8080/",
          "height": 304
        },
        "outputId": "44d2c2a9-9558-43bf-ed5f-0e013b262414"
      },
      "execution_count": 5,
      "outputs": [
        {
          "output_type": "error",
          "ename": "FileExistsError",
          "evalue": "ignored",
          "traceback": [
            "\u001b[0;31m---------------------------------------------------------------------------\u001b[0m",
            "\u001b[0;31mFileExistsError\u001b[0m                           Traceback (most recent call last)",
            "\u001b[0;32m<ipython-input-5-3be7dfe8b6dc>\u001b[0m in \u001b[0;36m<module>\u001b[0;34m()\u001b[0m\n\u001b[1;32m      1\u001b[0m \u001b[0;32mimport\u001b[0m \u001b[0mos\u001b[0m\u001b[0;34m\u001b[0m\u001b[0;34m\u001b[0m\u001b[0m\n\u001b[0;32m----> 2\u001b[0;31m \u001b[0mos\u001b[0m\u001b[0;34m.\u001b[0m\u001b[0mmakedirs\u001b[0m\u001b[0;34m(\u001b[0m\u001b[0;34m\"dataset/NUMTA\"\u001b[0m\u001b[0;34m)\u001b[0m\u001b[0;34m\u001b[0m\u001b[0;34m\u001b[0m\u001b[0m\n\u001b[0m",
            "\u001b[0;32m/usr/lib/python3.7/os.py\u001b[0m in \u001b[0;36mmakedirs\u001b[0;34m(name, mode, exist_ok)\u001b[0m\n\u001b[1;32m    221\u001b[0m             \u001b[0;32mreturn\u001b[0m\u001b[0;34m\u001b[0m\u001b[0;34m\u001b[0m\u001b[0m\n\u001b[1;32m    222\u001b[0m     \u001b[0;32mtry\u001b[0m\u001b[0;34m:\u001b[0m\u001b[0;34m\u001b[0m\u001b[0;34m\u001b[0m\u001b[0m\n\u001b[0;32m--> 223\u001b[0;31m         \u001b[0mmkdir\u001b[0m\u001b[0;34m(\u001b[0m\u001b[0mname\u001b[0m\u001b[0;34m,\u001b[0m \u001b[0mmode\u001b[0m\u001b[0;34m)\u001b[0m\u001b[0;34m\u001b[0m\u001b[0;34m\u001b[0m\u001b[0m\n\u001b[0m\u001b[1;32m    224\u001b[0m     \u001b[0;32mexcept\u001b[0m \u001b[0mOSError\u001b[0m\u001b[0;34m:\u001b[0m\u001b[0;34m\u001b[0m\u001b[0;34m\u001b[0m\u001b[0m\n\u001b[1;32m    225\u001b[0m         \u001b[0;31m# Cannot rely on checking for EEXIST, since the operating system\u001b[0m\u001b[0;34m\u001b[0m\u001b[0;34m\u001b[0m\u001b[0;34m\u001b[0m\u001b[0m\n",
            "\u001b[0;31mFileExistsError\u001b[0m: [Errno 17] File exists: 'dataset/NUMTA'"
          ]
        }
      ]
    },
    {
      "cell_type": "code",
      "source": [
        "!cp \"/content/drive/My Drive/Colab Notebooks/Datasets/NUMTA.zip\" dataset/NUMTA.zip"
      ],
      "metadata": {
        "id": "ODulqIVizPb4"
      },
      "execution_count": 6,
      "outputs": []
    },
    {
      "cell_type": "code",
      "source": [
        "!unzip dataset/NUMTA.zip -d dataset/NUMTA"
      ],
      "metadata": {
        "colab": {
          "base_uri": "https://localhost:8080/"
        },
        "id": "703v5GhP0_0y",
        "outputId": "a100a680-cf9c-48f5-8bf3-449ea0e4cc7a"
      },
      "execution_count": 7,
      "outputs": [
        {
          "output_type": "stream",
          "name": "stdout",
          "text": [
            "Archive:  dataset/NUMTA.zip\n",
            "replace dataset/NUMTA/testing-a/a00000.png? [y]es, [n]o, [A]ll, [N]one, [r]ename: N\n",
            "None\n"
          ]
        }
      ]
    },
    {
      "cell_type": "code",
      "source": [
        "import os\n",
        "from os import path\n",
        "import shutil\n",
        "import numpy as np\n",
        "import pandas as pd\n",
        "import time\n",
        "import copy\n",
        "\n",
        "#import pyTorch\n",
        "import torch\n",
        "import torch.nn as nn\n",
        "import torch.nn.functional as F\n",
        "import torch.optim as optim\n",
        "from torch.utils.data import Dataset\n",
        "from torch.utils.data.sampler import SubsetRandomSampler\n",
        "from torchvision import datasets,transforms,models\n",
        "\n",
        "#Import matplotlib\n",
        "import matplotlib\n",
        "import matplotlib.pyplot as plt\n",
        "from PIL import Image\n",
        "\n"
      ],
      "metadata": {
        "id": "KDkCz93SzhDC"
      },
      "execution_count": 8,
      "outputs": []
    },
    {
      "cell_type": "code",
      "source": [
        "#Hyperparameters\n",
        "batch_size=256\n",
        "num_iter=3200\n",
        "input_shape=28*28 #num_features=784\n",
        "output_shape=10\n",
        "learning_rate=0.001\n",
        "\n",
        "#Device\n",
        "device = torch.device(\"cuda:0\" if torch.cuda.is_available() else \"cpu\")\n",
        "print(device)"
      ],
      "metadata": {
        "colab": {
          "base_uri": "https://localhost:8080/"
        },
        "id": "gsLwX5YcrqyR",
        "outputId": "0da32d58-e88d-4616-ee37-b1b4a38321d2"
      },
      "execution_count": 9,
      "outputs": [
        {
          "output_type": "stream",
          "name": "stdout",
          "text": [
            "cuda:0\n"
          ]
        }
      ]
    },
    {
      "cell_type": "code",
      "source": [
        "PATH = 'dataset/NUMTA/'\n",
        "TRAIN_PATH = \"dataset/NUMTA/training-a/\"\n",
        "TEST_PATH = 'dataset/NUMTA/testing-a/'\n",
        "os.listdir(PATH)"
      ],
      "metadata": {
        "colab": {
          "base_uri": "https://localhost:8080/"
        },
        "id": "wXJnh-Ft56mz",
        "outputId": "f0fa96e2-f9c2-4313-84e0-f2ae6c98178e"
      },
      "execution_count": 10,
      "outputs": [
        {
          "output_type": "execute_result",
          "data": {
            "text/plain": [
              "['testing-c',\n",
              " 'testing-all-corrected',\n",
              " 'training-d.csv',\n",
              " 'training-a',\n",
              " 'training-b.csv',\n",
              " 'training-b',\n",
              " 'testing-auga',\n",
              " 'testing-a',\n",
              " 'training-c.csv',\n",
              " 'training-c',\n",
              " 'testing-f',\n",
              " 'training-e',\n",
              " 'testing-augc',\n",
              " 'training-a.csv',\n",
              " 'testing-d',\n",
              " 'testing-e',\n",
              " 'training-d',\n",
              " 'training-e.csv',\n",
              " 'testing-b']"
            ]
          },
          "metadata": {},
          "execution_count": 10
        }
      ]
    },
    {
      "cell_type": "code",
      "source": [
        "class CustomDataset(Dataset):\n",
        "  def __init__(self,df,root,transform=None):\n",
        "    self.data=df\n",
        "    self.root=root\n",
        "    self.transform=transform\n",
        "\n",
        "  def __len__(self):\n",
        "    return len(self.data)\n",
        "  def __getitem__(self,index):\n",
        "    item = self.data.iloc[index]\n",
        "    path = self.root+\"/\"+item[0]\n",
        "    image=Image.open(path).convert('L')\n",
        "    label=item[1]\n",
        "\n",
        "    if self.transform is not None:\n",
        "      image = self.transform(image)\n",
        "\n",
        "    return image,label"
      ],
      "metadata": {
        "id": "EbQPu7cq6-8F"
      },
      "execution_count": 11,
      "outputs": []
    },
    {
      "cell_type": "code",
      "source": [
        "a_csv = pd.read_csv(PATH+\"training-a.csv\")[['filename','digit']]\n",
        "a_csv.head()"
      ],
      "metadata": {
        "colab": {
          "base_uri": "https://localhost:8080/",
          "height": 206
        },
        "id": "SUT0Gd9y7iIp",
        "outputId": "25f5b756-05ac-43de-9c09-9c152814d293"
      },
      "execution_count": 12,
      "outputs": [
        {
          "output_type": "execute_result",
          "data": {
            "text/plain": [
              "     filename  digit\n",
              "0  a00000.png      5\n",
              "1  a00001.png      3\n",
              "2  a00002.png      1\n",
              "3  a00003.png      7\n",
              "4  a00004.png      0"
            ],
            "text/html": [
              "\n",
              "  <div id=\"df-05652ef9-8b8c-4f47-90f8-7f44ef623c85\">\n",
              "    <div class=\"colab-df-container\">\n",
              "      <div>\n",
              "<style scoped>\n",
              "    .dataframe tbody tr th:only-of-type {\n",
              "        vertical-align: middle;\n",
              "    }\n",
              "\n",
              "    .dataframe tbody tr th {\n",
              "        vertical-align: top;\n",
              "    }\n",
              "\n",
              "    .dataframe thead th {\n",
              "        text-align: right;\n",
              "    }\n",
              "</style>\n",
              "<table border=\"1\" class=\"dataframe\">\n",
              "  <thead>\n",
              "    <tr style=\"text-align: right;\">\n",
              "      <th></th>\n",
              "      <th>filename</th>\n",
              "      <th>digit</th>\n",
              "    </tr>\n",
              "  </thead>\n",
              "  <tbody>\n",
              "    <tr>\n",
              "      <th>0</th>\n",
              "      <td>a00000.png</td>\n",
              "      <td>5</td>\n",
              "    </tr>\n",
              "    <tr>\n",
              "      <th>1</th>\n",
              "      <td>a00001.png</td>\n",
              "      <td>3</td>\n",
              "    </tr>\n",
              "    <tr>\n",
              "      <th>2</th>\n",
              "      <td>a00002.png</td>\n",
              "      <td>1</td>\n",
              "    </tr>\n",
              "    <tr>\n",
              "      <th>3</th>\n",
              "      <td>a00003.png</td>\n",
              "      <td>7</td>\n",
              "    </tr>\n",
              "    <tr>\n",
              "      <th>4</th>\n",
              "      <td>a00004.png</td>\n",
              "      <td>0</td>\n",
              "    </tr>\n",
              "  </tbody>\n",
              "</table>\n",
              "</div>\n",
              "      <button class=\"colab-df-convert\" onclick=\"convertToInteractive('df-05652ef9-8b8c-4f47-90f8-7f44ef623c85')\"\n",
              "              title=\"Convert this dataframe to an interactive table.\"\n",
              "              style=\"display:none;\">\n",
              "        \n",
              "  <svg xmlns=\"http://www.w3.org/2000/svg\" height=\"24px\"viewBox=\"0 0 24 24\"\n",
              "       width=\"24px\">\n",
              "    <path d=\"M0 0h24v24H0V0z\" fill=\"none\"/>\n",
              "    <path d=\"M18.56 5.44l.94 2.06.94-2.06 2.06-.94-2.06-.94-.94-2.06-.94 2.06-2.06.94zm-11 1L8.5 8.5l.94-2.06 2.06-.94-2.06-.94L8.5 2.5l-.94 2.06-2.06.94zm10 10l.94 2.06.94-2.06 2.06-.94-2.06-.94-.94-2.06-.94 2.06-2.06.94z\"/><path d=\"M17.41 7.96l-1.37-1.37c-.4-.4-.92-.59-1.43-.59-.52 0-1.04.2-1.43.59L10.3 9.45l-7.72 7.72c-.78.78-.78 2.05 0 2.83L4 21.41c.39.39.9.59 1.41.59.51 0 1.02-.2 1.41-.59l7.78-7.78 2.81-2.81c.8-.78.8-2.07 0-2.86zM5.41 20L4 18.59l7.72-7.72 1.47 1.35L5.41 20z\"/>\n",
              "  </svg>\n",
              "      </button>\n",
              "      \n",
              "  <style>\n",
              "    .colab-df-container {\n",
              "      display:flex;\n",
              "      flex-wrap:wrap;\n",
              "      gap: 12px;\n",
              "    }\n",
              "\n",
              "    .colab-df-convert {\n",
              "      background-color: #E8F0FE;\n",
              "      border: none;\n",
              "      border-radius: 50%;\n",
              "      cursor: pointer;\n",
              "      display: none;\n",
              "      fill: #1967D2;\n",
              "      height: 32px;\n",
              "      padding: 0 0 0 0;\n",
              "      width: 32px;\n",
              "    }\n",
              "\n",
              "    .colab-df-convert:hover {\n",
              "      background-color: #E2EBFA;\n",
              "      box-shadow: 0px 1px 2px rgba(60, 64, 67, 0.3), 0px 1px 3px 1px rgba(60, 64, 67, 0.15);\n",
              "      fill: #174EA6;\n",
              "    }\n",
              "\n",
              "    [theme=dark] .colab-df-convert {\n",
              "      background-color: #3B4455;\n",
              "      fill: #D2E3FC;\n",
              "    }\n",
              "\n",
              "    [theme=dark] .colab-df-convert:hover {\n",
              "      background-color: #434B5C;\n",
              "      box-shadow: 0px 1px 3px 1px rgba(0, 0, 0, 0.15);\n",
              "      filter: drop-shadow(0px 1px 2px rgba(0, 0, 0, 0.3));\n",
              "      fill: #FFFFFF;\n",
              "    }\n",
              "  </style>\n",
              "\n",
              "      <script>\n",
              "        const buttonEl =\n",
              "          document.querySelector('#df-05652ef9-8b8c-4f47-90f8-7f44ef623c85 button.colab-df-convert');\n",
              "        buttonEl.style.display =\n",
              "          google.colab.kernel.accessAllowed ? 'block' : 'none';\n",
              "\n",
              "        async function convertToInteractive(key) {\n",
              "          const element = document.querySelector('#df-05652ef9-8b8c-4f47-90f8-7f44ef623c85');\n",
              "          const dataTable =\n",
              "            await google.colab.kernel.invokeFunction('convertToInteractive',\n",
              "                                                     [key], {});\n",
              "          if (!dataTable) return;\n",
              "\n",
              "          const docLinkHtml = 'Like what you see? Visit the ' +\n",
              "            '<a target=\"_blank\" href=https://colab.research.google.com/notebooks/data_table.ipynb>data table notebook</a>'\n",
              "            + ' to learn more about interactive tables.';\n",
              "          element.innerHTML = '';\n",
              "          dataTable['output_type'] = 'display_data';\n",
              "          await google.colab.output.renderOutput(dataTable, element);\n",
              "          const docLink = document.createElement('div');\n",
              "          docLink.innerHTML = docLinkHtml;\n",
              "          element.appendChild(docLink);\n",
              "        }\n",
              "      </script>\n",
              "    </div>\n",
              "  </div>\n",
              "  "
            ]
          },
          "metadata": {},
          "execution_count": 12
        }
      ]
    },
    {
      "cell_type": "code",
      "source": [
        "mean = [0.5,]\n",
        "std = [0.5,]\n",
        "\n",
        "transform = test_transform = transforms.Compose([\n",
        "                                transforms.Resize(28),\n",
        "                                transforms.ToTensor(),\n",
        "                                transforms.Normalize(mean,std)\n",
        "                                ])"
      ],
      "metadata": {
        "id": "FZyQeZXy7xZZ"
      },
      "execution_count": 13,
      "outputs": []
    },
    {
      "cell_type": "code",
      "source": [
        "train_dataset = CustomDataset(a_csv,TRAIN_PATH,transform)"
      ],
      "metadata": {
        "id": "msztck7O8f9c"
      },
      "execution_count": 16,
      "outputs": []
    },
    {
      "cell_type": "code",
      "source": [
        "len(train_dataset)"
      ],
      "metadata": {
        "colab": {
          "base_uri": "https://localhost:8080/"
        },
        "id": "HXhWd8wk8fXJ",
        "outputId": "0e13d065-3a40-4c50-dfae-0ec5f85cf45e"
      },
      "execution_count": 17,
      "outputs": [
        {
          "output_type": "execute_result",
          "data": {
            "text/plain": [
              "19702"
            ]
          },
          "metadata": {},
          "execution_count": 17
        }
      ]
    },
    {
      "cell_type": "markdown",
      "source": [
        "#Data Spliting"
      ],
      "metadata": {
        "id": "HS8XJHCFsnOD"
      }
    },
    {
      "cell_type": "code",
      "source": [
        "#split data 20% for validation\n",
        "val_size = 0.2\n",
        "\n",
        "#obtain training indices that will be used for validation\n",
        "dataset_size = len(train_dataset)\n",
        "\n",
        "#mix data\n",
        "#indices of all data\n",
        "indices = list(range(dataset_size))\n",
        "\n",
        "#random the index\n",
        "np.random.shuffle(indices)\n",
        "\n",
        "split=int(np.floor(val_size*dataset_size))\n",
        "\n",
        "#divided into two part\n",
        "\n",
        "train_idx,val_idx = indices[split:],indices[:split]"
      ],
      "metadata": {
        "id": "I99qS-d_-eXT"
      },
      "execution_count": 18,
      "outputs": []
    },
    {
      "cell_type": "code",
      "source": [
        "#define the sampler\n",
        "train_sampler = SubsetRandomSampler(train_idx)\n",
        "val_sampler = SubsetRandomSampler(val_idx)\n",
        "\n",
        "print(\"Train Sample: \",len(train_idx))\n",
        "print(\"validation Sample: \",len(val_idx))"
      ],
      "metadata": {
        "colab": {
          "base_uri": "https://localhost:8080/"
        },
        "id": "72rTmcZwtOLz",
        "outputId": "832a3596-898f-425f-ff60-1a67ab441579"
      },
      "execution_count": 19,
      "outputs": [
        {
          "output_type": "stream",
          "name": "stdout",
          "text": [
            "Train Sample:  15762\n",
            "validation Sample:  3940\n"
          ]
        }
      ]
    },
    {
      "cell_type": "code",
      "source": [
        "show_img = train_dataset[0][0].numpy().reshape(28,28)\n",
        "plt.imshow(show_img,cmap='gray')"
      ],
      "metadata": {
        "colab": {
          "base_uri": "https://localhost:8080/",
          "height": 282
        },
        "id": "AQifWGKcuNU8",
        "outputId": "48ad6c16-3f43-44cf-b651-b16780e32014"
      },
      "execution_count": 20,
      "outputs": [
        {
          "output_type": "execute_result",
          "data": {
            "text/plain": [
              "<matplotlib.image.AxesImage at 0x7f42349a1510>"
            ]
          },
          "metadata": {},
          "execution_count": 20
        },
        {
          "output_type": "display_data",
          "data": {
            "text/plain": [
              "<Figure size 432x288 with 1 Axes>"
            ],
            "image/png": "[encoded data removed]"
          },
          "metadata": {
            "needs_background": "light"
          }
        }
      ]
    },
    {
      "cell_type": "code",
      "source": [
        "train_dataset[0][1]"
      ],
      "metadata": {
        "colab": {
          "base_uri": "https://localhost:8080/"
        },
        "id": "DquoWBqNubXS",
        "outputId": "bfca93d4-ffcd-4aa8-8829-d98dceda75ae"
      },
      "execution_count": 21,
      "outputs": [
        {
          "output_type": "execute_result",
          "data": {
            "text/plain": [
              "5"
            ]
          },
          "metadata": {},
          "execution_count": 21
        }
      ]
    },
    {
      "cell_type": "markdown",
      "source": [
        "#DataLoader"
      ],
      "metadata": {
        "id": "cCIvqkYCumTu"
      }
    },
    {
      "cell_type": "code",
      "source": [
        "#Making Dataset Iterable\n",
        "\n",
        "#Prepare loaders\n",
        "\n",
        "train_loader=torch.utils.data.DataLoader(train_dataset,batch_size=batch_size,sampler=train_sampler)\n",
        "val_loader=torch.utils.data.DataLoader(train_dataset,batch_size=batch_size,sampler=val_sampler)"
      ],
      "metadata": {
        "id": "d_Zc2UYiuf97"
      },
      "execution_count": 22,
      "outputs": []
    },
    {
      "cell_type": "code",
      "source": [
        "image,label = next(iter(val_loader))\n",
        "image.shape,label.shape"
      ],
      "metadata": {
        "colab": {
          "base_uri": "https://localhost:8080/"
        },
        "id": "qNI3vIwXvIl-",
        "outputId": "559ab15c-7bdb-4935-9ff9-feb4b9f97f02"
      },
      "execution_count": 23,
      "outputs": [
        {
          "output_type": "execute_result",
          "data": {
            "text/plain": [
              "(torch.Size([256, 1, 28, 28]), torch.Size([256]))"
            ]
          },
          "metadata": {},
          "execution_count": 23
        }
      ]
    },
    {
      "cell_type": "code",
      "source": [
        "torch.flatten(image,1,3).shape\n",
        "image.view(image.shape[0],-1).shape"
      ],
      "metadata": {
        "colab": {
          "base_uri": "https://localhost:8080/"
        },
        "id": "YhSIzpEHvSU_",
        "outputId": "4e59d771-aaeb-4b1d-8dbd-4003774c0d67"
      },
      "execution_count": 24,
      "outputs": [
        {
          "output_type": "execute_result",
          "data": {
            "text/plain": [
              "torch.Size([256, 784])"
            ]
          },
          "metadata": {},
          "execution_count": 24
        }
      ]
    },
    {
      "cell_type": "markdown",
      "source": [
        "#FCN Model"
      ],
      "metadata": {
        "id": "mV02ZsU8v7iF"
      }
    },
    {
      "cell_type": "code",
      "source": [
        "class FC(nn.Module):\n",
        "  def __init__(self,input_size,num_classes):\n",
        "    super().__init__()\n",
        "    self.fc1 = nn.Linear(input_size,512) #input Layer\n",
        "    self.fc2 = nn.Linear(512,256) # Hidden Layer\n",
        "    self.fc3 = nn.Linear(256,128) #Hidden Layer\n",
        "    self.fc4 = nn.Linear(128, num_classes)\n",
        "\n",
        "  def forward(self,x):\n",
        "    x = x.view(x.shape[0],-1)\n",
        "    x = F.relu(self.fc1(x))\n",
        "    x = F.relu(self.fc2(x))\n",
        "    x = F.relu(self.fc3(x))\n",
        "\n",
        "    #probas = F.log_softmax(self.fc4(x), dim=1)\n",
        "    logits = self.fc4(x)\n",
        "\n",
        "    return logits  "
      ],
      "metadata": {
        "id": "E1FyksZ8voJZ"
      },
      "execution_count": 25,
      "outputs": []
    },
    {
      "cell_type": "code",
      "source": [
        "#INSTANTIATE MODEL CLASS\n",
        "\n",
        "model = FC(input_size=input_shape,num_classes=output_shape)\n",
        "\n",
        "#To enable GPU\n",
        "model.to(device)"
      ],
      "metadata": {
        "colab": {
          "base_uri": "https://localhost:8080/"
        },
        "id": "flQQn-XGxJJW",
        "outputId": "aa34ca06-be0f-403b-fd45-b1d189ea7c87"
      },
      "execution_count": 26,
      "outputs": [
        {
          "output_type": "execute_result",
          "data": {
            "text/plain": [
              "FC(\n",
              "  (fc1): Linear(in_features=784, out_features=512, bias=True)\n",
              "  (fc2): Linear(in_features=512, out_features=256, bias=True)\n",
              "  (fc3): Linear(in_features=256, out_features=128, bias=True)\n",
              "  (fc4): Linear(in_features=128, out_features=10, bias=True)\n",
              ")"
            ]
          },
          "metadata": {},
          "execution_count": 26
        }
      ]
    },
    {
      "cell_type": "markdown",
      "source": [
        "#Optimizer and Loss Function"
      ],
      "metadata": {
        "id": "DycY9VscxoQw"
      }
    },
    {
      "cell_type": "code",
      "source": [
        "#INSTATIATE OPTIMIZER CLASS\n",
        "\n",
        "optimizer1 = torch.optim.Adam(model.parameters(),lr=learning_rate)\n",
        "criterion1 = nn.CrossEntropyLoss()"
      ],
      "metadata": {
        "id": "nSgrI6c3xe50"
      },
      "execution_count": 27,
      "outputs": []
    },
    {
      "cell_type": "markdown",
      "source": [
        "#Batch Size,Epochs,Iterations"
      ],
      "metadata": {
        "id": "AmGqETuGyBlg"
      }
    },
    {
      "cell_type": "code",
      "source": [
        "num_batches = (len(train_idx)/batch_size)\n",
        "num_epochs  = num_iter / num_batches\n",
        "num_epochs  = int(num_epochs)\n",
        "\n",
        "print(f'Total Epochs: {num_epochs}')"
      ],
      "metadata": {
        "colab": {
          "base_uri": "https://localhost:8080/"
        },
        "id": "sIrQ78iMx_nN",
        "outputId": "13c4cbec-14b7-41e2-edb8-0d214feee19f"
      },
      "execution_count": 28,
      "outputs": [
        {
          "output_type": "stream",
          "name": "stdout",
          "text": [
            "Total Epochs: 51\n"
          ]
        }
      ]
    },
    {
      "cell_type": "code",
      "source": [
        "dataloaders = {'train':train_loader,'val':val_loader}\n",
        "dataset_size = {'train':len(train_idx),'val':len(val_idx)}"
      ],
      "metadata": {
        "id": "vA-F07tcy8yb"
      },
      "execution_count": 29,
      "outputs": []
    },
    {
      "cell_type": "markdown",
      "source": [
        "#Training"
      ],
      "metadata": {
        "id": "oqY6mA4-07z6"
      }
    },
    {
      "cell_type": "code",
      "source": [
        "def train_model(model,criterion,optimizer,num_epochs=25,name='fc'):\n",
        "    since = time.time()\n",
        "\n",
        "    all_train_loss = []\n",
        "    all_val_loss = []\n",
        "    all_train_acc = []\n",
        "    all_val_acc = []\n",
        "    best_model_wts = copy.deepcopy(model.state_dict())\n",
        "    best_acc = 0.0\n",
        "\n",
        "    for epoch in range(0,num_epochs):\n",
        "        print('Epoch {}/{}'.format(epoch,num_epochs - 1))\n",
        "        print('-' * 10)\n",
        "\n",
        "        #Each epoch has a training and validation phase\n",
        "\n",
        "        for phase in ['train','val']:\n",
        "            if phase == 'train':\n",
        "                model.train() #set model to training mode\n",
        "            else:\n",
        "                model.eval()  #set model to evaluate mode\n",
        "      \n",
        "            running_loss = 0.0  \n",
        "            running_corrects = 0\n",
        "\n",
        "            #Iterate over data.\n",
        "            for inputs,labels in dataloaders[phase]:\n",
        "               inputs = inputs.to(device)\n",
        "               labels = labels.to(device)\n",
        "\n",
        "               #forward\n",
        "               #track history if only in train\n",
        "\n",
        "               with torch.set_grad_enabled(phase == 'train'):\n",
        "                   outputs = model(inputs)\n",
        "                   _,preds = torch.max(outputs,1)\n",
        "                   loss = criterion(outputs,labels)\n",
        "     \n",
        "                   #backward + optimize only if in training phase\n",
        "                   if phase == 'train':\n",
        "\n",
        "                       loss.backward()\n",
        "                       optimizer.step()\n",
        "                       optimizer.zero_grad()\n",
        "        \n",
        "               #statistics\n",
        "               running_loss += loss.item() * inputs.size(0)\n",
        "               running_corrects += torch.sum(preds == labels.data)\n",
        "\n",
        "            epoch_loss = running_loss / dataset_size[phase]\n",
        "            epoch_acc = running_corrects.double() / dataset_size[phase]\n",
        "\n",
        "            if phase == 'train':\n",
        "              all_train_loss.append(epoch_loss)\n",
        "              all_train_acc.append(epoch_acc.item())\n",
        "            elif phase == 'val':\n",
        "              all_val_loss.append(epoch_loss)\n",
        "              all_val_acc.append(epoch_acc.item())\n",
        "\n",
        "            print('{} Loss {:.4f} Acc: {:.4f}'.format(\n",
        "              phase,epoch_loss,epoch_acc))\n",
        "    \n",
        "           #deep copy the model\n",
        "\n",
        "        if phase == 'val' and epoch_acc>best_acc:\n",
        "               best_acc = epoch_acc\n",
        "               best_model_wts = copy.deepcopy(model.state_dict())\n",
        "  \n",
        "    print()\n",
        "\n",
        "    time_elapsed = time.time() - since\n",
        "    print('Training Complete in {:.0f}m {:.0f}s'.format(\n",
        "        time_elapsed // 60,time_elapsed % 60))\n",
        "    print('Best val Acc: {:4f}'.format(best_acc))\n",
        "\n",
        "    #load best model weights\n",
        "    model.load_state_dict(best_model_wts)\n",
        " \n",
        "    #plotting the training and validation loss\n",
        "    fig, axs = plt.subplots(1,2,figsize=(12,6))\n",
        "    axs[0].plot(all_train_loss,label='Training Loss')\n",
        "    axs[0].plot(all_val_loss,label='validation Loss')\n",
        "    axs[0].set_label(\"Training VS. Validation Loss\")\n",
        "    axs[0].set(xlabel=\"Epochs\",ylabel=\"Loss\")\n",
        "\n",
        "    #plotting the training and validation loss\n",
        "    axs[1].plot(all_train_acc,label='Training Accuracy')\n",
        "    axs[1].plot(all_val_acc,label='Validation Accuracy')\n",
        "    axs[1].set_label(\"Training VS. Validation Accuracy\")\n",
        "    axs[1].set(xlabel=\"Epochs\",ylabel=\"Accuracy\")\n",
        "\n",
        "    axs[0].legend()\n",
        "    axs[1].legend()\n",
        "\n",
        "    #fig.tight_layout()\n",
        "    plt.show()\n",
        "    return model\n",
        "\n"
      ],
      "metadata": {
        "id": "W2_FaXs906h6"
      },
      "execution_count": 30,
      "outputs": []
    },
    {
      "cell_type": "code",
      "source": [
        "model = train_model(model,criterion1,optimizer1,num_epochs=25,name='fc')"
      ],
      "metadata": {
        "colab": {
          "base_uri": "https://localhost:8080/",
          "height": 1000
        },
        "id": "9IC8XE4e7CM3",
        "outputId": "372957b8-79b7-4280-806e-276e1b9eea3f"
      },
      "execution_count": 31,
      "outputs": [
        {
          "output_type": "stream",
          "name": "stdout",
          "text": [
            "Epoch 0/24\n",
            "----------\n",
            "train Loss 2.2987 Acc: 0.1093\n",
            "val Loss 2.2830 Acc: 0.1147\n",
            "Epoch 1/24\n",
            "----------\n",
            "train Loss 2.2121 Acc: 0.1813\n",
            "val Loss 2.1131 Acc: 0.2736\n",
            "Epoch 2/24\n",
            "----------\n",
            "train Loss 2.0030 Acc: 0.2935\n",
            "val Loss 1.8841 Acc: 0.3424\n",
            "Epoch 3/24\n",
            "----------\n",
            "train Loss 1.7899 Acc: 0.3813\n",
            "val Loss 1.6352 Acc: 0.4464\n",
            "Epoch 4/24\n",
            "----------\n",
            "train Loss 1.6874 Acc: 0.4106\n",
            "val Loss 1.5709 Acc: 0.4612\n",
            "Epoch 5/24\n",
            "----------\n",
            "train Loss 1.5388 Acc: 0.4623\n",
            "val Loss 1.4363 Acc: 0.5203\n",
            "Epoch 6/24\n",
            "----------\n",
            "train Loss 1.4681 Acc: 0.4880\n",
            "val Loss 1.3632 Acc: 0.5383\n",
            "Epoch 7/24\n",
            "----------\n",
            "train Loss 1.4168 Acc: 0.5045\n",
            "val Loss 1.3930 Acc: 0.5003\n",
            "Epoch 8/24\n",
            "----------\n",
            "train Loss 1.3762 Acc: 0.5244\n",
            "val Loss 1.3672 Acc: 0.5371\n",
            "Epoch 9/24\n",
            "----------\n",
            "train Loss 1.2788 Acc: 0.5654\n",
            "val Loss 1.1888 Acc: 0.6132\n",
            "Epoch 10/24\n",
            "----------\n",
            "train Loss 1.2487 Acc: 0.5750\n",
            "val Loss 1.5974 Acc: 0.4353\n",
            "Epoch 11/24\n",
            "----------\n",
            "train Loss 1.2458 Acc: 0.5735\n",
            "val Loss 1.1255 Acc: 0.6360\n",
            "Epoch 12/24\n",
            "----------\n",
            "train Loss 1.1509 Acc: 0.6089\n",
            "val Loss 1.1004 Acc: 0.6391\n",
            "Epoch 13/24\n",
            "----------\n",
            "train Loss 1.1583 Acc: 0.6036\n",
            "val Loss 1.2097 Acc: 0.5850\n",
            "Epoch 14/24\n",
            "----------\n",
            "train Loss 1.0973 Acc: 0.6279\n",
            "val Loss 1.0554 Acc: 0.6530\n",
            "Epoch 15/24\n",
            "----------\n",
            "train Loss 1.0760 Acc: 0.6390\n",
            "val Loss 1.2256 Acc: 0.5701\n",
            "Epoch 16/24\n",
            "----------\n",
            "train Loss 1.0455 Acc: 0.6534\n",
            "val Loss 0.9938 Acc: 0.6756\n",
            "Epoch 17/24\n",
            "----------\n",
            "train Loss 1.0426 Acc: 0.6488\n",
            "val Loss 1.0409 Acc: 0.6558\n",
            "Epoch 18/24\n",
            "----------\n",
            "train Loss 0.9848 Acc: 0.6721\n",
            "val Loss 0.9677 Acc: 0.6835\n",
            "Epoch 19/24\n",
            "----------\n",
            "train Loss 0.9559 Acc: 0.6847\n",
            "val Loss 1.1749 Acc: 0.5997\n",
            "Epoch 20/24\n",
            "----------\n",
            "train Loss 0.9616 Acc: 0.6773\n",
            "val Loss 0.9357 Acc: 0.6942\n",
            "Epoch 21/24\n",
            "----------\n",
            "train Loss 1.0002 Acc: 0.6642\n",
            "val Loss 1.0156 Acc: 0.6647\n",
            "Epoch 22/24\n",
            "----------\n",
            "train Loss 0.9197 Acc: 0.6931\n",
            "val Loss 0.9259 Acc: 0.6898\n",
            "Epoch 23/24\n",
            "----------\n",
            "train Loss 0.9200 Acc: 0.6938\n",
            "val Loss 0.8536 Acc: 0.7234\n",
            "Epoch 24/24\n",
            "----------\n",
            "train Loss 0.8660 Acc: 0.7139\n",
            "val Loss 1.0387 Acc: 0.6548\n",
            "\n",
            "Training Complete in 18m 16s\n",
            "Best val Acc: 0.723350\n"
          ]
        },
        {
          "output_type": "display_data",
          "data": {
            "text/plain": [
              "<Figure size 864x432 with 2 Axes>"
            ],
            "image/png": "[encoded data removed]"
          },
          "metadata": {
            "needs_background": "light"
          }
        }
      ]
    },
    {
      "cell_type": "code",
      "source": [
        "!pip install jovian --upgrade --quiet"
      ],
      "metadata": {
        "colab": {
          "base_uri": "https://localhost:8080/"
        },
        "id": "JweYch5aXUfa",
        "outputId": "59cabf93-aa9c-4e03-97e4-cec47199bea0"
      },
      "execution_count": 32,
      "outputs": [
        {
          "output_type": "stream",
          "name": "stdout",
          "text": [
            "[y]\n",
            "\u001b[K     |████████████████████████████████| 68 kB 7.4 MB/s \n",
            "\u001b[?25h  Building wheel for uuid (setup.py) ... \u001b[?25l\u001b[?25hdone\n"
          ]
        }
      ]
    },
    {
      "cell_type": "code",
      "source": [
        "import jovian"
      ],
      "metadata": {
        "id": "nXSUJp1pXVhP"
      },
      "execution_count": 33,
      "outputs": []
    },
    {
      "cell_type": "code",
      "source": [
        "jovian.commit(project=\"NUMTADB\")"
      ],
      "metadata": {
        "colab": {
          "base_uri": "https://localhost:8080/"
        },
        "id": "Pv0XjQ-EXY4y",
        "outputId": "2602cb42-2459-4475-9269-a3838ecb2e71"
      },
      "execution_count": 34,
      "outputs": [
        {
          "output_type": "stream",
          "name": "stdout",
          "text": [
            "[jovian] Detected Colab notebook...\u001b[0m\n"
          ]
        },
        {
          "output_type": "stream",
          "name": "stderr",
          "text": [
            "\u001b[31m[jovian] Error: jovian.commit doesn't work on Colab unless the notebook was created and executed from Jovian.\n",
            "Make sure to run the first code cell at the top after executing from Jovian.\n",
            "Alternatively, you can download this notebook and upload it manually to Jovian.\n",
            "Learn more: https://jovian.ai/docs/user-guide/run.html#run-on-colab\u001b[0m\n"
          ]
        }
      ]
    },
    {
      "cell_type": "code",
      "source": [
        ""
      ],
      "metadata": {
        "id": "5H_ZsUHbXdzK"
      },
      "execution_count": null,
      "outputs": []
    }
  ]
}